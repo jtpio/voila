{
 "cells": [
  {
   "cell_type": "code",
   "execution_count": 2,
   "metadata": {},
   "outputs": [
    {
     "data": {
      "application/vnd.jupyter.widget-view+json": {
       "model_id": "d398e1d08f804ccc9e55f509eef7d126",
       "version_major": 2,
       "version_minor": 0
      },
      "text/plain": [
       "Button(description='Output JSON', style=ButtonStyle())"
      ]
     },
     "metadata": {},
     "output_type": "display_data"
    },
    {
     "data": {
      "application/vnd.jupyter.widget-view+json": {
       "model_id": "8b165eca774c456da9b8527ea92d24b3",
       "version_major": 2,
       "version_minor": 0
      },
      "text/plain": [
       "Output()"
      ]
     },
     "metadata": {},
     "output_type": "display_data"
    }
   ],
   "source": [
    "from ipywidgets import Button, Output\n",
    "from IPython import display\n",
    "\n",
    "button = Button(description='Output JSON')\n",
    "output = Output()\n",
    "obj = {\n",
    "    \"abcde\": 1234,\n",
    "    \"nested\": list(range(10))\n",
    "}\n",
    "\n",
    "@output.capture()\n",
    "def on_click(change):\n",
    "    display.display(display.JSON(obj))\n",
    "    \n",
    "    \n",
    "button.on_click(on_click)\n",
    "display.display(button)\n",
    "output"
   ]
  },
  {
   "cell_type": "code",
   "execution_count": 4,
   "metadata": {},
   "outputs": [
    {
     "data": {
      "application/json": {
       "abcde": 1234,
       "nested": [
        0,
        1,
        2,
        3,
        4,
        5,
        6,
        7,
        8,
        9
       ]
      },
      "text/plain": [
       "<IPython.core.display.JSON object>"
      ]
     },
     "execution_count": 4,
     "metadata": {
      "application/json": {
       "expanded": false,
       "root": "root"
      }
     },
     "output_type": "execute_result"
    }
   ],
   "source": [
    "display.JSON(obj)"
   ]
  }
 ],
 "metadata": {
  "kernelspec": {
   "display_name": "Python 3",
   "language": "python",
   "name": "python3"
  },
  "language_info": {
   "codemirror_mode": {
    "name": "ipython",
    "version": 3
   },
   "file_extension": ".py",
   "mimetype": "text/x-python",
   "name": "python",
   "nbconvert_exporter": "python",
   "pygments_lexer": "ipython3",
   "version": "3.9.1"
  }
 },
 "nbformat": 4,
 "nbformat_minor": 5
}
